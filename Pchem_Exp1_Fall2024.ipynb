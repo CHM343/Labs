{
  "nbformat": 4,
  "nbformat_minor": 0,
  "metadata": {
    "colab": {
      "provenance": [],
      "toc_visible": true
    },
    "kernelspec": {
      "name": "python3",
      "display_name": "Python 3"
    },
    "language_info": {
      "name": "python"
    }
  },
  "cells": [
    {
      "cell_type": "markdown",
      "source": [
        "# Experiment 1 – Working with Experimental & Computational Data\n",
        "\n",
        "#### ASU Online Physical Chemistry Laboratory (CHM343) - Fall 2024\n",
        "\n",
        "<br>\n",
        "\n",
        "\n",
        "*Jeff Yarger, School of Molecular Sciences, Arizona State University.*\n",
        "\n",
        "Jeff.Yarger@asu.edu\n"
      ],
      "metadata": {
        "id": "V0GjOHy42E_P"
      }
    },
    {
      "cell_type": "markdown",
      "source": [
        "This juypter notebook is written in python and designed to be web-browser compatible using CoLaboratory ([Google CoLab](https://colab.research.google.com/)) and publicly accessible on [GitHub](https://github.com/CHM343/Labs).\n",
        "\n",
        "[![Open In Colab](https://colab.research.google.com/assets/colab-badge.svg)](https://colab.research.google.com/github/CHM343/Labs/blob/main/Pchem_Exp1_Fall2024.ipynb)"
      ],
      "metadata": {
        "id": "gKNpZUKTANAW"
      }
    },
    {
      "cell_type": "markdown",
      "source": [
        "# Overview\n",
        "\n",
        "Execution of laboratory experiments and data collection is typically only one component in the process of successful laboratory research.  The preparation for an experiment is critical and usually involves becoming familiar with the fundamental concepts, instrumentation and/or computational methods.  The process of doing your own research (DYOR) through literature and background informational searching is a vital and often an underutilized component.  The treatment of experimental and/or computational data, i.e., data and error analysis, is arguably the most generally applicable component and most critical for evaluating the success of laboratory experiments as well as drawing conclusions and reporting the findings of experiments and/or computations.   \n",
        "\n",
        "To emphasize the importance of data and error analysis, experimental and computational data will be provided to students and the focus will be completely on the treatment, visualization and reporting of experimental and computational data. It is recommended that students use a Colab (Jupyter) notebook, which allows for complete data and error analysis as well as visualization and reporting. (A Colab or Jupyter Notebook is an open-source freely available web application for creating and sharing computational documents, and offers a simple, streamlined, document-centric experience.)\n",
        "\n",
        "Students will be given a multiple experimental measurements of the temperature and acoustic interferometry spectra of Argon gas.  This data is similar to what students will remotely acquire in \"Experiment 2 - Molecular Thermodynamics - Properties of Gases.\"  From the multiple experimental measurements of the Argon gas temperature, determine the mean Argon gas temperature and the associated uncertainty. Report the mean value as T = (##.## $\\pm$ #.##)$^o$C. From the multiple acoustic interferometry spectral data of Argon gas, determine the mean length (L) of the acoustic interferometer tube and the associated uncertainty. Report the mean value as L = (###.## $\\pm$ #.##) mm.\n",
        "\n",
        "<br>\n",
        "\n",
        "**DATA MEASUREMENT FILENAMES (CHM343 Data GitHub Repository)**\n",
        "\n",
        "*   [2024_08_21_Sensors_Ar_Gas_Temp_Measurments.txt](https://raw.githubusercontent.com/CHM343/Data/main/2024_08_21_Sensors_Ar_Gas_Temp_Measurments.txt)\n",
        "*   [2024_08_21_Ar_4_Node_Freq.csv](https://raw.githubusercontent.com/CHM343/Data/main/2024_08_21_Ar_4_Node_Freq%20.csv)\n",
        "\n",
        "**Argon Acoustic Interferometer Spectra - Filenames (CHM343 GitHub)**\n",
        "\n",
        "* [2024_08_21_AI_2ft_Ar_Spectrum.txt](https://raw.githubusercontent.com/CHM343/Acoustic_Interferometer/main/Data/2024_08_21_AI_2ft_Ar_Spectrum.txt)\n",
        "* [2024_08_21_AI_2ft_Ar_Spectrum2.txt](https://raw.githubusercontent.com/CHM343/Acoustic_Interferometer/main/Data/2024_08_21_AI_2ft_Ar_Spectrum2.txt)\n",
        "* [2024_08_21_AI_2ft_Ar_Spectrum3.txt](https://raw.githubusercontent.com/CHM343/Acoustic_Interferometer/main/Data/2024_08_21_AI_2ft_Ar_Spectrum3.txt)\n",
        "* [2024_08_21_AI_2ft_Ar_Spectrum4.txt](https://raw.githubusercontent.com/CHM343/Acoustic_Interferometer/main/Data/2024_08_21_AI_2ft_Ar_Spectrum4.txt)\n"
      ],
      "metadata": {
        "id": "2BwoDWCyZz6g"
      }
    },
    {
      "cell_type": "markdown",
      "source": [
        "# Introduction\n",
        "\n",
        "The goal of a physical chemistry experiment is to measure an interesting chemical or physical property of a chemical system. This property most often emphasized in a one semester physical chemistry course (e.g., BCH/CHM 341) is thermodynamically relavent, for example the heat capacity, enthalpy, entropy, rate constant, or activation energy. In reporting the results of experiments it is extremely important to quantify the accuracy of the measurements. Errors are inevitable in experiments; however, they can be hard to work out. This is especially true when complex ﬁtting functions are used to analyze the data, or when the data are compared to simulations. Nevertheless, a good analysis of errors can elevate the quality of your paper and help convince readers that the data have been carefully analyzed and are reliable. The goal of this exercise is to provide a basic practical guide for data and error analysis in physical chemistry experiments. Unlike experiments in biological sciences which involve controls and sometimes complex hypothesis testing, errors in physical chemistry are relatively straightforward. There are two common situations: (i) the case where a series of experimental measurements are averaged together to determine an expectation value and (ii) curve ﬁtting where experimental data are ﬁt to a function. In both cases the goal is to provide a best estimate for the quantity being measured, as well as an estimate of the range of possible values. This discussion will assume that we are only dealing with random errors; that is, that there are no systematic errors in the measurements.  There are numerous resources that cover data and error analysis in detail [1-4], including a colab (and pdf) overview written specifically to help students in ASU CHM 343.\n",
        "\n",
        "To emphasize the importance of data and error analysis, experimental and computational data will be provided to students and the focus will be completely on the treatment, visualization and reporting of experimental and computational data. The data provided was acquired from the remotely accessible acoustic interferometer instrument that students use in the next lab (experiment 2). Multiple experimental measurements of the temperature and acoustic interferometry spectra of Argon gas were acquired and saved in ascii formatted files.  The data is available on the remote acoustic interferometer instrument computer and uploaded to the CHM343 Github repository, where it can be publicly accessed. From the multiple experimental measurements of the Argon gas temperature, determine the mean Argon gas temperature and the associated uncertainty. Report the mean value as T = (##.## $\\pm$ #.##)$^o$C. From the multiple acoustic interferometry spectral data of Argon gas, determine the mean length (L) of the acoustic interferometer tube and the associated uncertainty. Report the mean value as L = (###.## $\\pm$ #.##) mm.  To simplify data analysis of spectral data, the resonance frequencies for the first 15 nodes have been determined and saved in ascii csv format.\n",
        "\n",
        "Students should create a colab notebook for performing the data and error analysis as well as reporting the results.  There are several resources that cover jupyter (colab) notebooks and basic python [5-6], including tutorials provided on the [CHM343 Data GitHub repository](https://github.com/CHM343/Data).  Students are also provided with a colab template notebook and this document is a colab notebook along with most documents provided to students (and can serve as good examples).\n",
        "\n",
        "In order to understand data analysis associated with determining the mean length (L) of the acoustic interferometer tube and the associated uncertainty fromn the resonance frequencies for the first 15 nodes of Argon gas, it is necessary to review the basics of acoustic interferometry of gases.  Since this is the next experiment in this laboratory course, there is significant background information in the experiment 2 module.  However, the basics can be quickly reviewed using the following reference: [\"Determining the Speed of Sound and Heat Capacity Ratios of Gases by Acoustic Interferometry,\" Varberg, T.D., et al., Journal of Chemical Education, 2017, 94(12), 1995–1998](https://pubs.acs.org/doi/10.1021/acs.jchemed.7b00526) (specifically, figure 2 and equation 6), which states\n",
        "\n",
        "\\begin{equation}\n",
        "\\nu = (\\frac{c}{2L})n\n",
        "\\end{equation}\n",
        "\n",
        "where $\\nu$ is the resonance frequency, $c$ is the sound velocity, $L$ is the length of the cavity (tube), and $n$ is called the order or node number ($n = 1, 2, 3, ...$).  Argon gas is used to determine the length of the cavity because it has a very well-known sound velocity ($c_{Ar} (20^oC) = 319 m/s$)."
      ],
      "metadata": {
        "id": "OIZPgIXt4OL0"
      }
    },
    {
      "cell_type": "markdown",
      "source": [
        "# Computational\n",
        "\n",
        "Using molecalc.cloud, determine the computational thermochemistry values of Argon and several other common calibration gases, such as oxygen, nitrogen, and carbon dioxide.  Import the results into your colab notebook.  This current assignment is focused on data and error analysis.  Hence, there is only a very minimal computational component.  As extra credit, a very useful exercise is to import the molecular model into the colab notebook as a good visualization."
      ],
      "metadata": {
        "id": "yLKhVskAbmMP"
      }
    },
    {
      "cell_type": "markdown",
      "source": [
        "# Experimental\n",
        "\n",
        "Experimental data is provided and the emphasis is on data and error analysis.  However, the data that has been provided was remotely acquired on the acoustic interferometer that will be used in the following experiment.  To get a head start on the next experiment (and extra credit), you can collect your own acoustic interferometry data on Argon gas and compare it to the data provided."
      ],
      "metadata": {
        "id": "MBPJCW1VdQn3"
      }
    },
    {
      "cell_type": "markdown",
      "source": [
        "# Data & Error Analysis\n",
        "\n",
        "*   If you are not familiar with basic python data science and colab/jupyter, please spend an hour looking over the background and tutorial material.  Specifically, overview the basics of following commonly used python libraries: **numpy, pandas, matplotlib, scipy.**\n",
        "*   Make a copy of the colab CHM343 template notebook.  Rename the notebook and use this to start the data and error analysis.  Start with some basic text in the title and introduction section.\n",
        "*   Read in the data from the CHM343 Github repository.  The easiest and most common way to do this is using pandas (pd.read_csv or pd.read_table functions, where you have imported the pandas library: import pandas as pd)\n",
        "*   Refer to the colab \"Data & Error Analysis - Accounting for Data Uncertainty\" notebook and using the multiple experimental measurements of the Argon gas temperature ([2024_08_21_Sensors_Ar_Gas_Temp_Measurments.txt](https://raw.githubusercontent.com/CHM343/Data/main/2024_08_21_Sensors_Ar_Gas_Temp_Measurments.txt)), determine the mean Argon gas temperature and the associated uncertainty. Report the mean value as T = (##.##  ±  #.##)$^o$C.\n",
        "*   Refer to the colab \"Data & Error Analysis - Accounting for Data Uncertainty\" notebook and using the multiple frequency versus node number data on Argon gas ([2024_08_21_Ar_4_Node_Freq.csv](https://raw.githubusercontent.com/CHM343/Data/main/2024_08_21_Ar_4_Node_Freq%20.csv)), determine the mean length (L) of the acoustic interferometer tube and the associated uncertainty. Report the mean value as L = (###.## $\\pm$ #.##) mm.\n",
        "*   To get a head start on the next experiment (and extra credit),  analyze the multiple acoustic interferometry spectral data of Argon gas ([2024_08_21_AI_2ft_Ar_Spectrum.txt](https://raw.githubusercontent.com/CHM343/Acoustic_Interferometer/main/Data/2024_08_21_AI_2ft_Ar_Spectrum.txt), [2024_08_21_AI_2ft_Ar_Spectrum2.txt](https://raw.githubusercontent.com/CHM343/Acoustic_Interferometer/main/Data/2024_08_21_AI_2ft_Ar_Spectrum2.txt), [2024_08_21_AI_2ft_Ar_Spectrum3.txt](https://raw.githubusercontent.com/CHM343/Acoustic_Interferometer/main/Data/2024_08_21_AI_2ft_Ar_Spectrum3.txt), [2024_08_21_AI_2ft_Ar_Spectrum4.txt](https://raw.githubusercontent.com/CHM343/Acoustic_Interferometer/main/Data/2024_08_21_AI_2ft_Ar_Spectrum4.txt)) to first determine the resonance frequencies for the first 10-15 nodes in each of the argon gas spectra (recommend using SciPy find_peak function).  Compare this to the analyzed data that was provided: ([2024_08_21_Ar_4_Node_Freq.csv](https://raw.githubusercontent.com/CHM343/Data/main/2024_08_21_Ar_4_Node_Freq%20.csv)), and make a plot of the Argon spectral data (Frequency (Hz) versus Sound Level (dB)).\n",
        "*   To get even more of a head start on the next experiment (and even more extra credit), you can collect your own acoustic interferometry data on Argon gas and compare it to the data provided.  Details can be found on ASU Canvas under Module 2.\n",
        "\n"
      ],
      "metadata": {
        "id": "q1aDLi-zd3eh"
      }
    },
    {
      "cell_type": "markdown",
      "source": [
        "# Experiment 1 - Notebook\n",
        "\n",
        "Instead of a laboratory report, students will instead submit an 'Experiment 1' laboratory (colab) notebook. The following general rubric will be used to evaluate the final submitted electronic (colab) notebook:\n",
        "\n",
        "*   Title & Authorship (5 pts)\n",
        "*   Abstract (5 pts)\n",
        "*   Introduction (10 pts)\n",
        "*   Materials & Methods (10 pts)\n",
        "*   Results & Discussion (60 pts)\n",
        "*   References (10 pts)\n",
        "*   Supplemental Information - Appendix (up to 50 pts extra credit)\n",
        "\n",
        "Detailed information about the content of each section can be found in the colab notebook template and the syllabus.\n"
      ],
      "metadata": {
        "id": "m-gcDitsi8HY"
      }
    },
    {
      "cell_type": "markdown",
      "source": [
        "# References\n",
        "\n",
        "\n",
        "\n",
        "1.   Statistical Analysis of Physical Chemistry Data: Errors Are Not Mistakes, J. Phys. Chem. A 2020, 124, 2109-2112. ([doi/10.1021/acs.jpca.0c01403](https://pubs.acs.org/doi/10.1021/acs.jpca.0c01403))\n",
        "2.   Data Reduction and Error Analysis for the Physical Sciences, 3rd Ed., by P. Bevington and D. Robinson, McGraw-Hill, 2002.\n",
        "3.   An Open-Source, Cross-Platform Resource for Nonlinear Least- Squares Curve Fitting, A. Moglich, J. Chem. Educ. 2018, 95, 2273-2278. ([10.1021/acs.jchemed.8b00649](https://pubs.acs.org/doi/10.1021/acs.jchemed.8b00649))\n",
        "4.   Analysis of Large Data Sets in a Physical Chemistry Laboratory NMR Experiment Using Python, Zhang, Z., Gautam, A., Lim, S.-M., Hilty, C., J. Chem. Educ., 2023, 100, 4109-4113. ([10.1021/acs.jchemed.3c00586](https://pubs.acs.org/doi/abs/10.1021/acs.jchemed.3c00586))\n",
        "5.   Interactive Python Notebooks for Physical Chemistry, Bravenec, A.D., Ward, K.D., J. Chem. Educ., 2023, 100(2), 933–940. ([10.1021/acs.jchemed.2c00665](https://pubs.acs.org/doi/10.1021/acs.jchemed.2c00665))\n",
        "6.   Integrating Python into a Physical Chemistry Lab, Van Staveren, M., J. Chem. Educ., 2022, 99, 2604–2609. ([10.1021/acs.jchemed.2c00193](https://pubs.acs.org/doi/10.1021/acs.jchemed.2c00193))\n",
        "\n"
      ],
      "metadata": {
        "id": "UzgrT69b5NvA"
      }
    }
  ]
}