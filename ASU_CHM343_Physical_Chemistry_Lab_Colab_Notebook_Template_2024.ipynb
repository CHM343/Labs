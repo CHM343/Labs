{
  "nbformat": 4,
  "nbformat_minor": 0,
  "metadata": {
    "colab": {
      "provenance": []
    },
    "kernelspec": {
      "name": "python3",
      "display_name": "Python 3"
    },
    "language_info": {
      "name": "python"
    }
  },
  "cells": [
    {
      "cell_type": "markdown",
      "source": [
        "#**ASU CHM 343 Physical Chemistry Lab '#' - Notebook**\n",
        "##*Descriptive Title*\n",
        "\n",
        "Date\n",
        "\n",
        "**Name**, email"
      ],
      "metadata": {
        "id": "0zIV1yr_EhnN"
      }
    },
    {
      "cell_type": "markdown",
      "source": [
        "# **Abstract**\n",
        "\n",
        "Short summary of the lab notebook (report) content. State the objectives, methods used, main results and conlusions."
      ],
      "metadata": {
        "id": "xufn96oPFQtT"
      }
    },
    {
      "cell_type": "markdown",
      "source": [
        "# **Set up Notebook Environment**\n",
        "\n",
        "The neccessary modules/libraries you need to execute the code cells in this notebook.   For google colaboratory and/or jupyter notebooks, this is commonly python libraries (e.g., numpy, pandas, matplotlib, scipy).\n",
        "\n",
        "[![Open In Colab](https://raw.githubusercontent.com/CHM343/Images/main/colab-badge.svg)](https://github.com/CHM343/Labs/blob/main/ASU_CHM343_Physical_Chemistry_Lab_Colab_Notebook_Template_2024.ipynb)"
      ],
      "metadata": {
        "id": "zopQYOliFr4w"
      }
    },
    {
      "cell_type": "code",
      "source": [
        "# @title\n",
        "# Example code cell with common python libraries\n",
        "\n",
        "# Python Libraries for display in Colab/Jupyter (Ipython)\n",
        "from IPython import display\n",
        "from IPython.display import Image\n",
        "\n",
        "# Primary Python Libraries\n",
        "import math\n",
        "import numpy as np\n",
        "import pandas as pd\n",
        "from scipy.optimize import curve_fit\n",
        "import matplotlib.pyplot as plt\n",
        "\n",
        "# Additional Matplotlib components to make custom plots\n",
        "from matplotlib.patches import Rectangle\n",
        "import matplotlib.colors as mcolors\n",
        "import matplotlib.lines as lines\n",
        "import matplotlib.ticker as ticker\n",
        "from matplotlib.ticker import (MultipleLocator, AutoMinorLocator)"
      ],
      "metadata": {
        "id": "TMcqlLnFTEyM",
        "cellView": "form"
      },
      "execution_count": null,
      "outputs": []
    },
    {
      "cell_type": "markdown",
      "source": [
        "# **Introduction**\n",
        "\n",
        "Give a short description of the problem investigated in this lab notebook (report), and provide some background information so that the reader can understand the context.\n",
        "\n",
        "Briefly describe what method you have chosen to solve the problem, and justify why you selected that method.\n",
        "\n",
        "Here you can express mathematics through Latex syntax, and use hyperlinks for references.\n",
        "\n",
        "For example:\n",
        "\n",
        "[Hyperlink to CHM343 GitHub Site and Repositories](https://github.com/CHM343)\n",
        "\n",
        "$\\LaTeX$ formatted equations:\n",
        "\n",
        "\\begin{equation*}\n",
        "dU = TdS - pdV +  \\sum_{i=1}^n \\mu_i d n_i  \n",
        "\\end{equation*}\n",
        "\n",
        "\\begin{equation*}\n",
        " \\mu_i \\equiv \\left( \\frac{\\partial U}{\\partial n_i}  \\right) _{S,V,n _{i \\neq j}}\n",
        "\\end{equation*}\n",
        "\n",
        "(all of chemical thermodynamics wrapped up in two equations)\n",
        "\n",
        "\n",
        "Embed images:\n",
        "\n",
        "<img src=\"https://github.com/CHM343/Images/blob/e1f1361e585f1de8c296cea40ed0f0e36d62c300/ASU_CHM343_Pchem_Lab_2in_1in_Fall2024.jpg?raw=true\" width=\"250\" alt=\"Pchem Logo Image\" />\n"
      ],
      "metadata": {
        "id": "DClxSUazGWvf"
      }
    },
    {
      "cell_type": "markdown",
      "source": [
        "# **Methods**\n",
        "\n",
        "Describe the experimental, computational and data/error analysis methods you used for this laboratory/project. This may be a combination of text, mathematical formulas (Latex), algorithms (code), data and output.  "
      ],
      "metadata": {
        "id": "3bCER4ugTbxB"
      }
    },
    {
      "cell_type": "markdown",
      "source": [
        "# **Results & Discussion**\n",
        "\n",
        "Present the results. If the result is an algorithm that you have described under the *Methods* section, you can present the data from verification and performance tests in this section. If the result is the output from a computational experiment or (remote) laboratory experiment, this is where you present the data and associated analysis.\n",
        "\n",
        "Summarize your results and your conclusions. Were the results expected or surprising. Do your results have implications outside the particular problem investigated in this laboratory exercise?"
      ],
      "metadata": {
        "id": "-mXM4PqCTydb"
      }
    },
    {
      "cell_type": "markdown",
      "source": [
        "# **References**\n",
        "\n",
        "\n",
        "\n",
        "1.   ACS style formatted reference (cited in the sections above), with hyperlinks.\n",
        "2.\n",
        "Bravenec, A.D., Ward, K.D., Interactive Python Notebooks for Physical Chemistry, \t*Journal of Chemical Education* (2022) 100, 933–940. ([10.1021/acs.jchemed.2c00665](https://pubs-acs-org.ezproxy1.lib.asu.edu/doi/10.1021/acs.jchemed.2c00665))\n",
        "\n"
      ],
      "metadata": {
        "id": "V6cinajQUmfV"
      }
    },
    {
      "cell_type": "markdown",
      "source": [
        "# **Supplemental Information**\n",
        "\n",
        "Detailed calcuations, error analysis, additional data, etc."
      ],
      "metadata": {
        "id": "XjTv2hBZUO3m"
      }
    }
  ]
}